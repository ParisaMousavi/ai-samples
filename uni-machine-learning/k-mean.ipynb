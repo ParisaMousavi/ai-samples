{
 "cells": [
  {
   "cell_type": "code",
   "execution_count": 1,
   "id": "1e073503-8fc0-4ce8-9930-12afa7315faf",
   "metadata": {},
   "outputs": [],
   "source": [
    "import pandas as pd        # For reading datasets"
   ]
  },
  {
   "cell_type": "code",
   "execution_count": 2,
   "id": "22fe25cc-bf58-4527-b4bc-9cb8f0505343",
   "metadata": {},
   "outputs": [],
   "source": [
    "import numpy as np        # For computations"
   ]
  },
  {
   "cell_type": "code",
   "execution_count": 3,
   "id": "5ee3653a-2a99-4135-b891-fc25a85a1a0d",
   "metadata": {},
   "outputs": [],
   "source": [
    "import matplotlib.pyplot as plt  # For visualization"
   ]
  },
  {
   "cell_type": "code",
   "execution_count": 6,
   "id": "17b2f116-6485-42e1-936b-0cdff7ff3204",
   "metadata": {},
   "outputs": [],
   "source": [
    "from pandas import DataFrame\n",
    "from sklearn.cluster import KMeans"
   ]
  },
  {
   "cell_type": "code",
   "execution_count": 7,
   "id": "3a1df27b-a1f9-483f-861f-f021c260cc57",
   "metadata": {},
   "outputs": [],
   "source": [
    "Data={'x': [12, 20, 28, 18, 29, 33, 24, 45, 45, 52, 51, 52, 55, 53, 55, 61, 64, 69, 72],\n",
    "      'y': [39, 36, 30, 52, 54, 46, 55, 59, 63, 70, 66, 63, 58, 23, 14, 8, 19, 7, 24]}"
   ]
  },
  {
   "cell_type": "code",
   "execution_count": 8,
   "id": "a1ea66ae-e938-4853-9060-f2eb8658c967",
   "metadata": {},
   "outputs": [],
   "source": [
    "df = DataFrame(Data,columns=['x','y'])"
   ]
  },
  {
   "cell_type": "code",
   "execution_count": 10,
   "id": "eb08b560-d946-4d8c-8372-611f5d692542",
   "metadata": {},
   "outputs": [],
   "source": [
    "# Create and fit the KMeans model\n",
    "\n",
    "kmeans = KMeans(n_clusters=3).fit(df)"
   ]
  },
  {
   "cell_type": "code",
   "execution_count": 11,
   "id": "aa1daa4f-7db5-45f6-a225-7f13f29a71d7",
   "metadata": {},
   "outputs": [
    {
     "name": "stdout",
     "output_type": "stream",
     "text": [
      "[[23.42857143 44.57142857]\n",
      " [50.         63.16666667]\n",
      " [62.33333333 15.83333333]]\n"
     ]
    }
   ],
   "source": [
    "# Find the centroids of the clusters\n",
    "\n",
    "centroids = kmeans.cluster_centers_\n",
    "\n",
    "print(centroids)"
   ]
  },
  {
   "cell_type": "code",
   "execution_count": 12,
   "id": "50ee2f24-f987-4ff8-a50a-bf65ef355dde",
   "metadata": {},
   "outputs": [
    {
     "data": {
      "text/plain": [
       "array([0, 0, 0, 0, 0, 0, 0, 1, 1, 1, 1, 1, 1, 2, 2, 2, 2, 2, 2],\n",
       "      dtype=int32)"
      ]
     },
     "execution_count": 12,
     "metadata": {},
     "output_type": "execute_result"
    }
   ],
   "source": [
    "# Get the associated cluster for each data record\n",
    "\n",
    "kmeans.labels_"
   ]
  },
  {
   "cell_type": "code",
   "execution_count": 15,
   "id": "7ed3c6ad-ef10-491c-8121-4f09db6c5470",
   "metadata": {},
   "outputs": [
    {
     "data": {
      "image/png": "[encoded data removed]",
      "text/plain": [
       "<Figure size 640x480 with 1 Axes>"
      ]
     },
     "metadata": {},
     "output_type": "display_data"
    }
   ],
   "source": [
    "# Display the clusters contents and their centroids\n",
    "\n",
    "plt.scatter(df['x'], df['y'], c= kmeans.labels_.astype(float), s=50, alpha=0.5)\n",
    "\n",
    "plt.scatter(centroids[:, 0], centroids[:, 1], c='red', s=50)\n",
    "\n",
    "plt.show()"
   ]
  },
  {
   "cell_type": "code",
   "execution_count": 18,
   "id": "7743444c-2a0b-4ba2-b093-f5fa04dd1754",
   "metadata": {},
   "outputs": [
    {
     "name": "stderr",
     "output_type": "stream",
     "text": [
      "/home/codespace/.local/lib/python3.12/site-packages/sklearn/utils/validation.py:2739: UserWarning: X does not have valid feature names, but KMeans was fitted with feature names\n",
      "  warnings.warn(\n"
     ]
    },
    {
     "data": {
      "text/plain": [
       "array([0, 2], dtype=int32)"
      ]
     },
     "execution_count": 18,
     "metadata": {},
     "output_type": "execute_result"
    }
   ],
   "source": [
    "# Note that the centroid of each cluster is displayed in red\n",
    "\n",
    "# Use the model to predict the cluster(s) of another input(s)\n",
    "\n",
    "kmeans.predict([[20, 20], [60, 40]])"
   ]
  },
  {
   "cell_type": "code",
   "execution_count": 23,
   "id": "07d81f06-d249-4890-8277-2d5159b2984e",
   "metadata": {},
   "outputs": [
    {
     "ename": "TypeError",
     "evalue": "KMeans.__init__() got an unexpected keyword argument 'precompute_distances'",
     "output_type": "error",
     "traceback": [
      "\u001b[0;31m---------------------------------------------------------------------------\u001b[0m",
      "\u001b[0;31mTypeError\u001b[0m                                 Traceback (most recent call last)",
      "Cell \u001b[0;32mIn[23], line 1\u001b[0m\n\u001b[0;32m----> 1\u001b[0m \u001b[43mKMeans\u001b[49m\u001b[43m(\u001b[49m\u001b[43mn_clusters\u001b[49m\u001b[43m \u001b[49m\u001b[38;5;241;43m=\u001b[39;49m\u001b[43m \u001b[49m\u001b[38;5;241;43m8\u001b[39;49m\u001b[43m,\u001b[49m\u001b[43m \u001b[49m\u001b[43minit\u001b[49m\u001b[43m \u001b[49m\u001b[38;5;241;43m=\u001b[39;49m\u001b[43m \u001b[49m\u001b[38;5;124;43m\"\u001b[39;49m\u001b[38;5;124;43mkmeans++\u001b[39;49m\u001b[38;5;124;43m\"\u001b[39;49m\u001b[43m,\u001b[49m\u001b[43m \u001b[49m\u001b[43mn_init\u001b[49m\u001b[43m \u001b[49m\u001b[38;5;241;43m=\u001b[39;49m\u001b[43m \u001b[49m\u001b[38;5;241;43m10\u001b[39;49m\u001b[43m,\u001b[49m\u001b[43m \u001b[49m\u001b[43mmax_iter\u001b[49m\u001b[43m \u001b[49m\u001b[38;5;241;43m=\u001b[39;49m\u001b[43m \u001b[49m\u001b[38;5;241;43m300\u001b[39;49m\u001b[43m,\u001b[49m\u001b[43m \u001b[49m\u001b[43mtol\u001b[49m\u001b[43m \u001b[49m\u001b[38;5;241;43m=\u001b[39;49m\u001b[43m \u001b[49m\u001b[38;5;241;43m0.0001\u001b[39;49m\u001b[43m,\u001b[49m\u001b[43m \u001b[49m\u001b[43mprecompute_distances\u001b[49m\u001b[43m \u001b[49m\u001b[38;5;241;43m=\u001b[39;49m\u001b[43m \u001b[49m\u001b[38;5;124;43m'\u001b[39;49m\u001b[38;5;124;43mauto\u001b[39;49m\u001b[38;5;124;43m'\u001b[39;49m\u001b[43m)\u001b[49m\n",
      "\u001b[0;31mTypeError\u001b[0m: KMeans.__init__() got an unexpected keyword argument 'precompute_distances'"
     ]
    }
   ],
   "source": [
    "KMeans(n_clusters = 8, init = \"kmeans++\", n_init = 10, max_iter = 300, tol = 0.0001, precompute_distances = 'auto')"
   ]
  }
 ],
 "metadata": {
  "kernelspec": {
   "display_name": "Python 3 (ipykernel)",
   "language": "python",
   "name": "python3"
  },
  "language_info": {
   "codemirror_mode": {
    "name": "ipython",
    "version": 3
   },
   "file_extension": ".py",
   "mimetype": "text/x-python",
   "name": "python",
   "nbconvert_exporter": "python",
   "pygments_lexer": "ipython3",
   "version": "3.12.1"
  }
 },
 "nbformat": 4,
 "nbformat_minor": 5
}
